{
  "nbformat": 4,
  "nbformat_minor": 0,
  "metadata": {
    "colab": {
      "provenance": [],
      "authorship_tag": "ABX9TyPghAT/Fg4BIoxzLj79h/Vr",
      "include_colab_link": true
    },
    "kernelspec": {
      "name": "python3",
      "display_name": "Python 3"
    },
    "language_info": {
      "name": "python"
    }
  },
  "cells": [
    {
      "cell_type": "markdown",
      "metadata": {
        "id": "view-in-github",
        "colab_type": "text"
      },
      "source": [
        "<a href=\"https://colab.research.google.com/github/Duncan1738/SMILES-Morgan-Fingerprints-and-Tanimoto-Similarity/blob/main/Molecular_Descriptors_and_Fingerprints_in_Cheminformatics.ipynb\" target=\"_parent\"><img src=\"https://colab.research.google.com/assets/colab-badge.svg\" alt=\"Open In Colab\"/></a>"
      ]
    },
    {
      "cell_type": "markdown",
      "source": [
        " # **Molecular Descriptors and Fingerprints in Cheminformatics**\n",
        "\n",
        "# This Colab notebook demonstrates how to generate **Morgan fingerprints** (ECFP) for molecules,\n",
        "# calculate **Tanimoto similarity**, and experiment with different radius values using the `RDKit` library.\n",
        "\n",
        " ## **Step 1: Install RDKit in Google Colab**\n",
        "# RDKit is required for molecular processing tasks such as calculating fingerprints and similarity."
      ],
      "metadata": {
        "id": "9C1N2tfhV4l3"
      }
    },
    {
      "cell_type": "code",
      "source": [
        "# Install RDKit\n",
        "!pip install rdkit-pypi\n"
      ],
      "metadata": {
        "colab": {
          "base_uri": "https://localhost:8080/"
        },
        "id": "7HgAxVZRV7Jg",
        "outputId": "46a04589-cac5-4c17-963a-57808c26b94c"
      },
      "execution_count": 2,
      "outputs": [
        {
          "output_type": "stream",
          "name": "stdout",
          "text": [
            "Collecting rdkit-pypi\n",
            "  Downloading rdkit_pypi-2022.9.5-cp310-cp310-manylinux_2_17_x86_64.manylinux2014_x86_64.whl.metadata (3.9 kB)\n",
            "Requirement already satisfied: numpy in /usr/local/lib/python3.10/dist-packages (from rdkit-pypi) (1.26.4)\n",
            "Requirement already satisfied: Pillow in /usr/local/lib/python3.10/dist-packages (from rdkit-pypi) (10.4.0)\n",
            "Downloading rdkit_pypi-2022.9.5-cp310-cp310-manylinux_2_17_x86_64.manylinux2014_x86_64.whl (29.4 MB)\n",
            "\u001b[2K   \u001b[90m━━━━━━━━━━━━━━━━━━━━━━━━━━━━━━━━━━━━━━━━\u001b[0m \u001b[32m29.4/29.4 MB\u001b[0m \u001b[31m39.5 MB/s\u001b[0m eta \u001b[36m0:00:00\u001b[0m\n",
            "\u001b[?25hInstalling collected packages: rdkit-pypi\n",
            "Successfully installed rdkit-pypi-2022.9.5\n"
          ]
        }
      ]
    },
    {
      "cell_type": "markdown",
      "source": [
        "## **Step 2: Generate Morgan Fingerprints and Calculate Tanimoto Similarity**\n",
        "# Below, we define three molecules using their SMILES representation, convert them into molecular objects,\n",
        "# generate fingerprints with two different radii (ECFP4 and ECFP6), and calculate the Tanimoto similarity.\n",
        "\n",
        "### Molecular Information:\n",
        "# - **Ethanol**: C2H5OH (SMILES: `CCO`)\n",
        "# - **Propanol**: C3H7OH (SMILES: `CCCO`)\n",
        "# - **Butanol**: C4H9OH (SMILES: `CCCCO`)"
      ],
      "metadata": {
        "id": "E-_n4k8iWvLt"
      }
    },
    {
      "cell_type": "code",
      "source": [
        "from rdkit import Chem\n",
        "from rdkit.Chem import AllChem\n",
        "from rdkit.DataStructs import TanimotoSimilarity\n",
        "\n",
        "# Example SMILES for three molecules\n",
        "smiles_1 = 'CCO'    # Ethanol (C2H5OH)\n",
        "smiles_2 = 'CCCO'   # Propanol (C3H7OH)\n",
        "smiles_3 = 'CCCCO'  # Butanol (C4H9OH)\n",
        "\n",
        "# Convert SMILES strings to RDKit molecular objects\n",
        "mol_1 = Chem.MolFromSmiles(smiles_1)\n",
        "mol_2 = Chem.MolFromSmiles(smiles_2)\n",
        "mol_3 = Chem.MolFromSmiles(smiles_3)\n"
      ],
      "metadata": {
        "id": "b8H2ClutW5l4"
      },
      "execution_count": 3,
      "outputs": []
    },
    {
      "cell_type": "markdown",
      "source": [
        " ### **Step 3: Generating Morgan Fingerprints (ECFP)**\n",
        "# Morgan fingerprints are generated using a fixed bit vector length (1024 bits) and two different radii:\n",
        "# - **Radius = 2**: ECFP4 (looks at atom neighborhoods up to two bonds away)\n",
        "# - **Radius = 4**: ECFP6 (looks at atom neighborhoods up to four bonds away)\n"
      ],
      "metadata": {
        "id": "lnIrSxe9XAXQ"
      }
    },
    {
      "cell_type": "code",
      "source": [
        "# Generate Morgan Fingerprints (ECFP) with radius=2 and 1024 bits (ECFP4)\n",
        "fingerprint_radius_2_mol1 = AllChem.GetMorganFingerprintAsBitVect(mol_1, radius=2, nBits=1024)\n",
        "fingerprint_radius_2_mol2 = AllChem.GetMorganFingerprintAsBitVect(mol_2, radius=2, nBits=1024)\n",
        "fingerprint_radius_2_mol3 = AllChem.GetMorganFingerprintAsBitVect(mol_3, radius=2, nBits=1024)\n",
        "\n",
        "# Generate Morgan Fingerprints (ECFP) with radius=4 and 1024 bits (ECFP6)\n",
        "fingerprint_radius_4_mol1 = AllChem.GetMorganFingerprintAsBitVect(mol_1, radius=4, nBits=1024)\n",
        "fingerprint_radius_4_mol2 = AllChem.GetMorganFingerprintAsBitVect(mol_2, radius=4, nBits=1024)\n",
        "fingerprint_radius_4_mol3 = AllChem.GetMorganFingerprintAsBitVect(mol_3, radius=4, nBits=1024)\n"
      ],
      "metadata": {
        "id": "2eY7a9DJXEeP"
      },
      "execution_count": 4,
      "outputs": []
    },
    {
      "cell_type": "markdown",
      "source": [
        "### **Step 4: Calculate Tanimoto Similarity**\n",
        "\n",
        "# The **Tanimoto similarity** is computed between the molecules based on their generated fingerprints.\n",
        "# This metric is commonly used in cheminformatics to assess molecular similarity:\n",
        "# - **1.0**: Identical molecules\n",
        "# - **0.0**: Completely different molecules\n"
      ],
      "metadata": {
        "id": "ztRdSc-vXOw8"
      }
    },
    {
      "cell_type": "code",
      "source": [
        "# Calculate Tanimoto similarity for radius=2 (ECFP4)\n",
        "similarity_radius_2_mol1_mol2 = TanimotoSimilarity(fingerprint_radius_2_mol1, fingerprint_radius_2_mol2)\n",
        "similarity_radius_2_mol1_mol3 = TanimotoSimilarity(fingerprint_radius_2_mol1, fingerprint_radius_2_mol3)\n",
        "\n",
        "# Calculate Tanimoto similarity for radius=4 (ECFP6)\n",
        "similarity_radius_4_mol1_mol2 = TanimotoSimilarity(fingerprint_radius_4_mol1, fingerprint_radius_4_mol2)\n",
        "similarity_radius_4_mol1_mol3 = TanimotoSimilarity(fingerprint_radius_4_mol1, fingerprint_radius_4_mol3)\n"
      ],
      "metadata": {
        "id": "f6mrDw1cXZ1X"
      },
      "execution_count": 5,
      "outputs": []
    },
    {
      "cell_type": "markdown",
      "source": [
        " ### **Step 5: Display Results**\n",
        "# The results show the Tanimoto similarity between:\n",
        "# 1. **Ethanol vs. Propanol**\n",
        "# 2. **Ethanol vs. Butanol**\n",
        "\n",
        "# Similarity is calculated for both ECFP4 (radius 2) and ECFP6 (radius 4).\n"
      ],
      "metadata": {
        "id": "v1_MIhHiXlgU"
      }
    },
    {
      "cell_type": "code",
      "source": [
        "# Display results for radius=2 (ECFP4)\n",
        "print(f'Tanimoto Similarity (Radius 2 - ECFP4) between Ethanol and Propanol: {similarity_radius_2_mol1_mol2}')\n",
        "print(f'Tanimoto Similarity (Radius 2 - ECFP4) between Ethanol and Butanol: {similarity_radius_2_mol1_mol3}')\n",
        "\n",
        "# Display results for radius=4 (ECFP6)\n",
        "print(f'Tanimoto Similarity (Radius 4 - ECFP6) between Ethanol and Propanol: {similarity_radius_4_mol1_mol2}')\n",
        "print(f'Tanimoto Similarity (Radius 4 - ECFP6) between Ethanol and Butanol: {similarity_radius_4_mol1_mol3}')\n"
      ],
      "metadata": {
        "colab": {
          "base_uri": "https://localhost:8080/"
        },
        "id": "Rr6PPOfrXpWn",
        "outputId": "6c7bd2e4-dae1-4e21-ff13-1aa6528b5db4"
      },
      "execution_count": 6,
      "outputs": [
        {
          "output_type": "stream",
          "name": "stdout",
          "text": [
            "Tanimoto Similarity (Radius 2 - ECFP4) between Ethanol and Propanol: 0.5555555555555556\n",
            "Tanimoto Similarity (Radius 2 - ECFP4) between Ethanol and Butanol: 0.4166666666666667\n",
            "Tanimoto Similarity (Radius 4 - ECFP6) between Ethanol and Propanol: 0.5555555555555556\n",
            "Tanimoto Similarity (Radius 4 - ECFP6) between Ethanol and Butanol: 0.4166666666666667\n"
          ]
        }
      ]
    },
    {
      "cell_type": "markdown",
      "source": [
        " ## **Summary**\n",
        "\n",
        "# - **Morgan Fingerprints** (ECFP) allow us to encode molecular structures in a fixed-length binary representation, capturing topological features.\n",
        "# - By using different **radii** for the fingerprints (e.g., 2 for ECFP4, 4 for ECFP6), we explore how far atom neighborhoods are considered.\n",
        "# - The **Tanimoto similarity** metric is then used to assess the structural similarity between molecules based on these fingerprints.\n",
        "\n",
        "# You can modify the SMILES strings or the radius values to explore different molecular structures and their similarities.\n"
      ],
      "metadata": {
        "id": "xzvcENVgX2oQ"
      }
    },
    {
      "cell_type": "code",
      "source": [],
      "metadata": {
        "id": "AG-ev-9YX7GW"
      },
      "execution_count": null,
      "outputs": []
    }
  ]
}